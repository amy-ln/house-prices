{
 "cells": [
  {
   "cell_type": "code",
   "execution_count": 20,
   "id": "ece280b9-3e04-4b71-9cba-f9a1df9c6d73",
   "metadata": {},
   "outputs": [],
   "source": [
    "# imports \n",
    "import pandas as pd \n",
    "\n",
    "from sklearn.model_selection import train_test_split\n",
    "from sklearn.ensemble import RandomForestRegressor\n",
    "from sklearn.metrics import mean_absolute_error\n",
    "\n",
    "# load data \n",
    "houses = pd.read_csv('HousePricesClean.csv')\n",
    "\n",
    "# select features\n",
    "y = houses.price\n",
    "X = houses[['bedrooms', 'bathrooms', 'year_built', 'post_code', 'condition', 'lot_area', 'house_area']]\n",
    "\n",
    "# split into test and train data\n",
    "train_X, test_X, train_y, test_y = train_test_split(X, y, random_state = 0)"
   ]
  },
  {
   "cell_type": "code",
   "execution_count": 2,
   "id": "6b2fd496-d9c1-4275-975b-9780ef8932c3",
   "metadata": {},
   "outputs": [
    {
     "name": "stdout",
     "output_type": "stream",
     "text": [
      "106903\n"
     ]
    }
   ],
   "source": [
    "# create model \n",
    "model = RandomForestRegressor(random_state = 1)\n",
    "model.fit(train_X,train_y)\n",
    "\n",
    "# test model\n",
    "predictions = model.predict(test_X)\n",
    "mae = int(mean_absolute_error(predictions, test_y))\n",
    "print(mae)"
   ]
  },
  {
   "cell_type": "code",
   "execution_count": 7,
   "id": "aef14dfd-8658-41af-9d54-9725885dd4ad",
   "metadata": {},
   "outputs": [],
   "source": [
    "# lets try improving the model by including more features \n",
    "\n",
    "# don't want to use these as they have missing data \n",
    "excluded_features = ['year_renovated', 'basement_area', 'price','id']\n",
    "\n",
    "X = houses.drop(columns = excluded_features)\n",
    "y = houses.price\n",
    "train_X, test_X, train_y, test_y = train_test_split(X, y, random_state = 0)\n"
   ]
  },
  {
   "cell_type": "code",
   "execution_count": 8,
   "id": "7288d23c-24e7-4947-9036-eb88edfa5e2c",
   "metadata": {},
   "outputs": [
    {
     "name": "stdout",
     "output_type": "stream",
     "text": [
      "68030\n"
     ]
    }
   ],
   "source": [
    "model_more_features = RandomForestRegressor(random_state = 1)\n",
    "model_more_features.fit(train_X, train_y)\n",
    "\n",
    "predictions = model_more_features.predict(test_X)\n",
    "mae = int(mean_absolute_error(predictions, test_y))\n",
    "print(mae) # = 13883\n",
    "\n",
    "# model takes a lot longer time to fit but now has very good results. "
   ]
  },
  {
   "cell_type": "code",
   "execution_count": 22,
   "id": "0b75ed72-c888-44e8-9ac6-5ad42d3efd74",
   "metadata": {},
   "outputs": [],
   "source": [
    "def is_renovated(year):\n",
    "    x = 0 if year == 0 else 1 \n",
    "    return x\n",
    "\n",
    "houses['renovated'] = houses.year_renovated.apply(is_renovated)\n",
    "houses['basement'] = houses.basement_area.apply(is_renovated)\n",
    "\n",
    "houses = houses.drop(columns = ['year_renovated', 'basement_area'])"
   ]
  },
  {
   "cell_type": "code",
   "execution_count": 24,
   "id": "485ecdd4-60e0-448a-8747-29418d49e72e",
   "metadata": {},
   "outputs": [
    {
     "name": "stdout",
     "output_type": "stream",
     "text": [
      "67876\n"
     ]
    }
   ],
   "source": [
    "X = houses.drop(columns = ['price', 'id'])\n",
    "y = houses.price\n",
    "\n",
    "train_X, test_X, train_y, test_y = train_test_split(X, y, random_state = 0)\n",
    "model = RandomForestRegressor(random_state = 1)\n",
    "model.fit(train_X,train_y)\n",
    "\n",
    "predictions = model.predict(test_X)\n",
    "mae = int(mean_absolute_error(predictions, test_y))\n",
    "print(mae)"
   ]
  },
  {
   "cell_type": "code",
   "execution_count": null,
   "id": "e7418fee-f8c8-45d0-b17c-94206e35819b",
   "metadata": {},
   "outputs": [],
   "source": []
  }
 ],
 "metadata": {
  "kernelspec": {
   "display_name": "Python 3 (ipykernel)",
   "language": "python",
   "name": "python3"
  },
  "language_info": {
   "codemirror_mode": {
    "name": "ipython",
    "version": 3
   },
   "file_extension": ".py",
   "mimetype": "text/x-python",
   "name": "python",
   "nbconvert_exporter": "python",
   "pygments_lexer": "ipython3",
   "version": "3.12.4"
  }
 },
 "nbformat": 4,
 "nbformat_minor": 5
}
