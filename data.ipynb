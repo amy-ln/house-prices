{
 "cells": [
  {
   "cell_type": "code",
   "execution_count": 1,
   "id": "3d42d87d-a1b0-4ed5-8099-5ab8c6f50090",
   "metadata": {},
   "outputs": [],
   "source": [
    "import pandas as pd \n",
    "\n",
    "houses = pd.read_csv('House Price India.csv')"
   ]
  },
  {
   "cell_type": "code",
   "execution_count": 3,
   "id": "411fa378-eb1b-4f0e-9616-741db19a686c",
   "metadata": {},
   "outputs": [
    {
     "data": {
      "text/plain": [
       "id                                0\n",
       "Date                              0\n",
       "No of bedrooms                    0\n",
       "No of bathrooms                   0\n",
       "living area                       0\n",
       "lot area                          0\n",
       "No of floors                      0\n",
       "waterfront present                0\n",
       "No of views                       0\n",
       "house condition                   0\n",
       "house grade                       0\n",
       "house area(excluding basement)    0\n",
       "Area of the basement              0\n",
       "Built Year                        0\n",
       "Renovation Year                   0\n",
       "Postal Code                       0\n",
       "Lattitude                         0\n",
       "Longitude                         0\n",
       "living_area_renov                 0\n",
       "lot_area_renov                    0\n",
       "No of schools nearby              0\n",
       "Distance from the airport         0\n",
       "Price                             0\n",
       "dtype: int64"
      ]
     },
     "execution_count": 3,
     "metadata": {},
     "output_type": "execute_result"
    }
   ],
   "source": [
    "# do we have any missing values?\n",
    "houses.isna().sum()\n",
    "# no!! "
   ]
  },
  {
   "cell_type": "code",
   "execution_count": 5,
   "id": "7e8ba0b8-cdf8-4415-ba41-f013eeb8b9c0",
   "metadata": {},
   "outputs": [],
   "source": [
    "# first let's get rid of the id column - that won't be doing anything \n",
    "houses = houses.drop(columns = ['id'])"
   ]
  },
  {
   "cell_type": "code",
   "execution_count": 9,
   "id": "f222b8e5-7a67-4981-8ca1-027ee2e447ac",
   "metadata": {},
   "outputs": [
    {
     "data": {
      "text/plain": [
       "0        350.000000\n",
       "1        126.582278\n",
       "2         19.489279\n",
       "3        178.888889\n",
       "4        166.315789\n",
       "            ...    \n",
       "14614     11.085000\n",
       "14615     31.314286\n",
       "14616     34.150327\n",
       "14617     30.962090\n",
       "14618     30.607966\n",
       "Name: price/lot area, Length: 14619, dtype: float64"
      ]
     },
     "execution_count": 9,
     "metadata": {},
     "output_type": "execute_result"
    }
   ],
   "source": [
    "# have a look at price per lot area \n",
    "houses['price/lot area'] = houses['Price'] / houses['lot area']\n",
    "houses['price/lot area']"
   ]
  },
  {
   "cell_type": "code",
   "execution_count": 12,
   "id": "838f5320-ddb0-4817-b756-fade6c9b9b0b",
   "metadata": {},
   "outputs": [
    {
     "data": {
      "text/plain": [
       "13859     87.588235\n",
       "1378      87.647059\n",
       "10890     87.713311\n",
       "583       88.000000\n",
       "5074      88.083700\n",
       "            ...    \n",
       "14531    781.990521\n",
       "9256     786.585366\n",
       "7626     790.816327\n",
       "13162    792.105263\n",
       "416      800.000000\n",
       "Name: price/living area, Length: 14619, dtype: float64"
      ]
     },
     "execution_count": 12,
     "metadata": {},
     "output_type": "execute_result"
    }
   ],
   "source": [
    "# upon examination i see that price per living area looks like a better metric\n",
    "houses['price/living area'] = houses['Price'] / houses['living area']\n",
    "houses['price/living area'].sort_values()"
   ]
  },
  {
   "cell_type": "code",
   "execution_count": null,
   "id": "0e81f40c-981e-47cc-9188-b875f436d19e",
   "metadata": {},
   "outputs": [],
   "source": []
  }
 ],
 "metadata": {
  "kernelspec": {
   "display_name": "Python 3 (ipykernel)",
   "language": "python",
   "name": "python3"
  },
  "language_info": {
   "codemirror_mode": {
    "name": "ipython",
    "version": 3
   },
   "file_extension": ".py",
   "mimetype": "text/x-python",
   "name": "python",
   "nbconvert_exporter": "python",
   "pygments_lexer": "ipython3",
   "version": "3.12.4"
  }
 },
 "nbformat": 4,
 "nbformat_minor": 5
}
