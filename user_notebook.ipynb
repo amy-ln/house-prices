{
 "cells": [
  {
   "cell_type": "code",
   "execution_count": 19,
   "id": "b90938b5-0849-4ccf-a7f0-37d97cb63f94",
   "metadata": {},
   "outputs": [
    {
     "name": "stdout",
     "output_type": "stream",
     "text": [
      "Ensure your data is entered in the user input file. Then press enter to see results.\n"
     ]
    }
   ],
   "source": [
    "# first we want to ask the user to input the data of their house \n",
    "print(\"Ensure your data is entered in the user input file. Then press enter to see results.\")"
   ]
  },
  {
   "cell_type": "code",
   "execution_count": 20,
   "id": "ce2b685b-14e4-41ab-9bdc-27d069cac0cb",
   "metadata": {},
   "outputs": [],
   "source": [
    "# then we load in the machine model and make the prediction\n",
    "from pickle import load\n",
    "\n",
    "with open('final_model.pkl', 'rb') as f:\n",
    "    my_model = load(f)"
   ]
  },
  {
   "cell_type": "code",
   "execution_count": 21,
   "id": "bae915b6-f6bb-421d-be8b-4002fe3cd6b1",
   "metadata": {},
   "outputs": [
    {
     "data": {
      "text/html": [
       "<div>\n",
       "<style scoped>\n",
       "    .dataframe tbody tr th:only-of-type {\n",
       "        vertical-align: middle;\n",
       "    }\n",
       "\n",
       "    .dataframe tbody tr th {\n",
       "        vertical-align: top;\n",
       "    }\n",
       "\n",
       "    .dataframe thead th {\n",
       "        text-align: right;\n",
       "    }\n",
       "</style>\n",
       "<table border=\"1\" class=\"dataframe\">\n",
       "  <thead>\n",
       "    <tr style=\"text-align: right;\">\n",
       "      <th></th>\n",
       "      <th>bedrooms</th>\n",
       "      <th>bathrooms</th>\n",
       "      <th>living_area</th>\n",
       "      <th>lot_area</th>\n",
       "      <th>floors</th>\n",
       "      <th>waterfront</th>\n",
       "      <th>views</th>\n",
       "      <th>condition</th>\n",
       "      <th>grade</th>\n",
       "      <th>house_area</th>\n",
       "      <th>year_built</th>\n",
       "      <th>lattitude</th>\n",
       "      <th>longitude</th>\n",
       "      <th>living_area_renov</th>\n",
       "      <th>lot_area_renov</th>\n",
       "      <th>schools</th>\n",
       "      <th>airport_distance</th>\n",
       "    </tr>\n",
       "  </thead>\n",
       "  <tbody>\n",
       "    <tr>\n",
       "      <th>0</th>\n",
       "      <td>4</td>\n",
       "      <td>2.5</td>\n",
       "      <td>2920</td>\n",
       "      <td>4000</td>\n",
       "      <td>1.5</td>\n",
       "      <td>0</td>\n",
       "      <td>0</td>\n",
       "      <td>5</td>\n",
       "      <td>8</td>\n",
       "      <td>1910</td>\n",
       "      <td>1909</td>\n",
       "      <td>52</td>\n",
       "      <td>-114</td>\n",
       "      <td>2470</td>\n",
       "      <td>4000</td>\n",
       "      <td>2</td>\n",
       "      <td>51</td>\n",
       "    </tr>\n",
       "  </tbody>\n",
       "</table>\n",
       "</div>"
      ],
      "text/plain": [
       "   bedrooms  bathrooms  living_area  lot_area  floors  waterfront  views  \\\n",
       "0         4        2.5         2920      4000     1.5           0      0   \n",
       "\n",
       "   condition  grade  house_area  year_built  lattitude  longitude  \\\n",
       "0          5      8        1910        1909         52       -114   \n",
       "\n",
       "   living_area_renov  lot_area_renov  schools  airport_distance  \n",
       "0               2470            4000        2                51  "
      ]
     },
     "execution_count": 21,
     "metadata": {},
     "output_type": "execute_result"
    }
   ],
   "source": [
    "import pandas as pd \n",
    "user_data = pd.read_csv('user_file.csv')\n",
    "X = user_data.drop(columns = ['house_name'])\n",
    "X.head()"
   ]
  },
  {
   "cell_type": "code",
   "execution_count": 22,
   "id": "b9546a46-e8f7-495d-8a24-12b0857e4e4a",
   "metadata": {},
   "outputs": [
    {
     "name": "stdout",
     "output_type": "stream",
     "text": [
      "[475638.97]\n"
     ]
    }
   ],
   "source": [
    "predictions = my_model.predict(X)\n",
    "\n",
    "# then we output the prediction\n",
    "\n",
    "print(predictions)"
   ]
  },
  {
   "cell_type": "code",
   "execution_count": null,
   "id": "7f485740-df99-4c6d-9c8f-dd13422ace97",
   "metadata": {},
   "outputs": [],
   "source": []
  }
 ],
 "metadata": {
  "kernelspec": {
   "display_name": "Python 3 (ipykernel)",
   "language": "python",
   "name": "python3"
  },
  "language_info": {
   "codemirror_mode": {
    "name": "ipython",
    "version": 3
   },
   "file_extension": ".py",
   "mimetype": "text/x-python",
   "name": "python",
   "nbconvert_exporter": "python",
   "pygments_lexer": "ipython3",
   "version": "3.12.4"
  }
 },
 "nbformat": 4,
 "nbformat_minor": 5
}
